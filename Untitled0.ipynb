{
  "nbformat": 4,
  "nbformat_minor": 0,
  "metadata": {
    "colab": {
      "provenance": [],
      "authorship_tag": "ABX9TyOQy5Ad4pcHrbl7Tw6eNVAT",
      "include_colab_link": true
    },
    "kernelspec": {
      "name": "python3",
      "display_name": "Python 3"
    },
    "language_info": {
      "name": "python"
    }
  },
  "cells": [
    {
      "cell_type": "markdown",
      "metadata": {
        "id": "view-in-github",
        "colab_type": "text"
      },
      "source": [
        "<a href=\"https://colab.research.google.com/github/Wahyugusti2509/For_u/blob/main/Untitled0.ipynb\" target=\"_parent\"><img src=\"https://colab.research.google.com/assets/colab-badge.svg\" alt=\"Open In Colab\"/></a>"
      ]
    },
    {
      "cell_type": "markdown",
      "source": [],
      "metadata": {
        "id": "62zXWcfOAW1c"
      }
    },
    {
      "cell_type": "code",
      "source": [
        "<!DOCTYPE html>\n",
        "<html lang=\"en\">\n",
        "<head>\n",
        "  <meta charset=\"UTF-8\">\n",
        "  <meta name=\"viewport\" content=\"width=device-width, initial-scale=1.0\">\n",
        "  <title>Selamat Hari Natal, Perempuan Kesayangan</title>\n",
        "  <style>\n",
        "    * {\n",
        "      margin: 0;\n",
        "      padding: 0;\n",
        "      box-sizing: border-box;\n",
        "    }\n",
        "\n",
        "    body {\n",
        "      height: 100vh;\n",
        "      background: url('https://images.pexels.com/photos/2531237/pexels-photo-2531237.jpeg') no-repeat center center fixed;\n",
        "      background-size: cover;\n",
        "      font-family: 'Arial', sans-serif;\n",
        "      color: white;\n",
        "      display: flex;\n",
        "      justify-content: center;\n",
        "      align-items: center;\n",
        "      text-align: center;\n",
        "      overflow: hidden;\n",
        "      animation: fadeIn 2s ease-in-out;\n",
        "    }\n",
        "\n",
        "    @keyframes fadeIn {\n",
        "      0% { opacity: 0; }\n",
        "      100% { opacity: 1; }\n",
        "    }\n",
        "\n",
        "    h1 {\n",
        "      font-size: 4rem;\n",
        "      font-weight: bold;\n",
        "      letter-spacing: 2px;\n",
        "      text-shadow: 0 0 10px rgba(255, 255, 255, 0.8), 0 0 20px rgba(255, 255, 255, 1);\n",
        "      animation: glowText 3s ease-in-out infinite alternate;\n",
        "      margin-bottom: 20px;\n",
        "    }\n",
        "\n",
        "    p {\n",
        "      font-size: 2rem;\n",
        "      font-style: italic;\n",
        "      letter-spacing: 1px;\n",
        "      text-shadow: 0 0 15px rgba(255, 255, 255, 0.8), 0 0 30px rgba(255, 255, 255, 1);\n",
        "      animation: fadeInText 2s ease-in-out;\n",
        "    }\n",
        "\n",
        "    @keyframes glowText {\n",
        "      0% {\n",
        "        text-shadow: 0 0 10px rgba(255, 255, 255, 0.8), 0 0 20px rgba(255, 255, 255, 1);\n",
        "      }\n",
        "      100% {\n",
        "        text-shadow: 0 0 30px rgba(255, 255, 255, 1), 0 0 50px rgba(255, 255, 255, 1);\n",
        "      }\n",
        "    }\n",
        "\n",
        "    @keyframes fadeInText {\n",
        "      0% {\n",
        "        opacity: 0;\n",
        "      }\n",
        "      100% {\n",
        "        opacity: 1;\n",
        "      }\n",
        "    }\n",
        "\n",
        "    .message-container {\n",
        "      z-index: 1;\n",
        "    }\n",
        "\n",
        "    iframe {\n",
        "      position: absolute;\n",
        "      top: 0;\n",
        "      left: 0;\n",
        "      width: 100%;\n",
        "      height: 100%;\n",
        "      border: none;\n",
        "      opacity: 0;\n",
        "    }\n",
        "\n",
        "    /* Hover effect */\n",
        "    h1:hover {\n",
        "      color: #ff69b4;\n",
        "      text-shadow: 0 0 15px rgba(255, 105, 180, 0.8), 0 0 30px rgba(255, 105, 180, 1);\n",
        "    }\n",
        "\n",
        "    p:hover {\n",
        "      color: #ffb6c1;\n",
        "      text-shadow: 0 0 15px rgba(255, 182, 193, 0.8), 0 0 30px rgba(255, 182, 193, 1);\n",
        "    }\n",
        "  </style>\n",
        "</head>\n",
        "<body>\n",
        "  <div class=\"message-container\">\n",
        "    <h1>Entah apa jadinya aku tanpamu</h1>\n",
        "    <p>Aku selalu mencintaimu octa ☺️</p>\n",
        "  </div>\n",
        "\n",
        "  <!-- YouTube audio embed with hidden iframe (only audio will play) -->\n",
        "  <iframe src=\"https://www.youtube.com/embed/zzFsx1iqcgg?autoplay=1&loop=1&playlist=zzFsx1iqcgg&mute=0\"\n",
        "          allow=\"autoplay\" ></iframe>\n",
        "</body>\n",
        "</html>\n"
      ],
      "metadata": {
        "colab": {
          "base_uri": "https://localhost:8080/",
          "height": 106
        },
        "id": "WfMBuzJbAXRH",
        "outputId": "df697fa6-27a2-43ec-ac78-371b97f47677"
      },
      "execution_count": 3,
      "outputs": [
        {
          "output_type": "error",
          "ename": "SyntaxError",
          "evalue": "invalid decimal literal (<ipython-input-3-6d2c1bddcf39>, line 15)",
          "traceback": [
            "\u001b[0;36m  File \u001b[0;32m\"<ipython-input-3-6d2c1bddcf39>\"\u001b[0;36m, line \u001b[0;32m15\u001b[0m\n\u001b[0;31m    height: 100vh;\u001b[0m\n\u001b[0m              ^\u001b[0m\n\u001b[0;31mSyntaxError\u001b[0m\u001b[0;31m:\u001b[0m invalid decimal literal\n"
          ]
        }
      ]
    }
  ]
}